{
 "cells": [
  {
   "cell_type": "code",
   "execution_count": null,
   "metadata": {},
   "outputs": [],
   "source": [
    "import json\n",
    "from lxml import html\n",
    "from urllib.request import Request, urlopen\n",
    "import unicodecsv as csv"
   ]
  },
  {
   "cell_type": "code",
   "execution_count": null,
   "metadata": {},
   "outputs": [],
   "source": [
    "# create a function that takes postal code as inputs\n",
    "\n",
    "def create_url(pcode):\n",
    "    url = \"https://www.zillow.com/homes/{0}\".format(pcode)\n",
    "    return url"
   ]
  },
  {
   "cell_type": "code",
   "execution_count": null,
   "metadata": {},
   "outputs": [],
   "source": [
    "# data cleaning from jason\n",
    "\n",
    "def clean(text):\n",
    "    # clean up text string\n",
    "    if text:\n",
    "        return ' '.join(' '.join(text).split())\n",
    "    return None\n",
    "\n",
    "def get_data_from_json(raw_json_data):\n",
    "    cleaned_data = clean(raw_json_data).replace('<!--', \"\").replace(\"-->\", \"\")\n",
    "    properties_list = []\n",
    "\n",
    "    try:\n",
    "        json_data = json.loads(cleaned_data) # parse cleaned_data\n",
    "        search_results = json_data.get('cat1').get('searchResults').get('listResults', [])\n",
    "\n",
    "        # find all the attributes from webpage source\n",
    "        for properties in search_results:\n",
    "            property_info = properties.get('hdpData', {}).get('homeInfo')\n",
    "            address = property_info.get('streetAddress')\n",
    "            city = property_info.get('city')\n",
    "            state = property_info.get('state')\n",
    "            postal_code = property_info.get('zipcode')\n",
    "            lat = property_info.get('latitude')\n",
    "            lon = property_info.get('longitude')\n",
    "            days = property_info.get('daysOnZillow')\n",
    "            price = properties.get('price')\n",
    "            bedrooms = properties.get('beds')\n",
    "            bathrooms = properties.get('baths')\n",
    "            area = properties.get('area')\n",
    "            info = f'{bedrooms} bds, {bathrooms} ba ,{area} sqft'\n",
    "            broker = properties.get('brokerName')\n",
    "            property_url = properties.get('detailUrl')\n",
    "            title = properties.get('statusText')\n",
    "\n",
    "            # store data\n",
    "            data = {'address': address,\n",
    "                    'city': city,\n",
    "                    'state': state,\n",
    "                    'postal_code': postal_code,\n",
    "                    'lat': lat,\n",
    "                    'lon': lon,\n",
    "                    'days': days,\n",
    "                    'price': price,\n",
    "                    'facts and features': info,\n",
    "                    'real estate provider': broker,\n",
    "                    'url': property_url,\n",
    "                    'title': title}\n",
    "\n",
    "            # list of all listings\n",
    "            properties_list.append(data)\n",
    "        return properties_list\n",
    "\n",
    "    except ValueError:\n",
    "        print(\"Invalid json\")\n",
    "        return None"
   ]
  },
  {
   "cell_type": "code",
   "execution_count": null,
   "metadata": {},
   "outputs": [],
   "source": [
    "def web_scrape(pcode):\n",
    "    \n",
    "    # download the website\n",
    "    url = create_url(pcode)\n",
    "    req = Request(url, headers={'User-Agent': 'Mozilla/5.0'}) \n",
    "    webpage = urlopen(req).read()\n",
    "    \n",
    "    # parsing \n",
    "    parser = html.fromstring(webpage)\n",
    "    search_results = parser.xpath(\"//div[@id='search-results']//article\")\n",
    "    raw_json_data = parser.xpath('//script[@data-zrr-shared-data-key=\"mobileSearchPageStore\"]//text()')\n",
    "    \n",
    "    # reformat data \n",
    "    properties_list = get_data_from_json(raw_json_data)\n",
    "    return properties_list"
   ]
  },
  {
   "cell_type": "code",
   "execution_count": null,
   "metadata": {},
   "outputs": [],
   "source": [
    "# exporting\n",
    "def write_data_to_csv(data):\n",
    "    with open(\"mls_data/all_properties.csv\", 'wb') as csvfile:\n",
    "        fieldnames = [\n",
    "            'title', \n",
    "            'address', \n",
    "            'city', \n",
    "            'state', \n",
    "            'postal_code', \n",
    "            'lat',\n",
    "            'lon',\n",
    "            'price', \n",
    "            'days',\n",
    "            'facts and features', \n",
    "            'real estate provider', \n",
    "            'url']\n",
    "        writer = csv.DictWriter(csvfile, fieldnames=fieldnames)\n",
    "        writer.writeheader()\n",
    "        for row in data:\n",
    "            writer.writerow(row)"
   ]
  },
  {
   "cell_type": "code",
   "execution_count": null,
   "metadata": {},
   "outputs": [],
   "source": [
    "# input \n",
    "pcode_lst = [\"M4V\"]\n",
    "\n",
    "# append zipcodes \n",
    "final_list = []\n",
    "for pcode in pcode_lst:\n",
    "    print (\"Fetching data for %s\" % (pcode))\n",
    "    \n",
    "    # main function \n",
    "    scraped_data = web_scrape(pcode)\n",
    "    for data in scraped_data:\n",
    "        final_list.append(data)\n",
    "    print (\"Done for %s.\" % (pcode))  \n",
    "\n",
    "# export data\n",
    "write_data_to_csv(final_list)"
   ]
  },
  {
   "cell_type": "code",
   "execution_count": null,
   "metadata": {},
   "outputs": [],
   "source": []
  },
  {
   "cell_type": "markdown",
   "metadata": {},
   "source": [
    "### Toronto\n",
    "get more pcodes: \n",
    "https://worldpostalcode.com/canada/ontario/toronto"
   ]
  },
  {
   "cell_type": "code",
   "execution_count": null,
   "metadata": {},
   "outputs": [],
   "source": [
    "pcode_lst = [\"M4V\", \"M4T\", \"M5R\", \"M5P\", \"M5N\", \"M4N\", \"M4P\", \"M4R\", \"M4S\", \"M3K\", \"M5W\", \"M7Y\", \"M8V\",\n",
    "               \"M5S\", \"M5B\", \"M5X\", \"M5V\", \"M4W\", \"M4X\", \"M4Y\", \"M5A\", \"M5C\", \"M5T\", \"M5E\", \"M5G\", \"M5H\", \"M5J\",  \n",
    "               \"M5K\", \"M5L\", \"M6G\", \"M4E\", \"M4M\", \"M4L\", \"M4K\", \"M4J\", \"M6H\", \"M6J\", \"M6K\", \"M6P\", \"M6R\", \"M6S\",]"
   ]
  }
 ],
 "metadata": {
  "kernelspec": {
   "display_name": "data_project",
   "language": "python",
   "name": "data_project"
  },
  "language_info": {
   "codemirror_mode": {
    "name": "ipython",
    "version": 3
   },
   "file_extension": ".py",
   "mimetype": "text/x-python",
   "name": "python",
   "nbconvert_exporter": "python",
   "pygments_lexer": "ipython3",
   "version": "3.8.6"
  }
 },
 "nbformat": 4,
 "nbformat_minor": 4
}

{
 "cells": [
  {
   "cell_type": "markdown",
   "metadata": {},
   "source": [
    "# Find the Source for Scraping\n",
    "- Realtor.ca\n",
    "- HouseSigma\n",
    "- Zillow"
   ]
  },
  {
   "cell_type": "code",
   "execution_count": null,
   "metadata": {},
   "outputs": [],
   "source": [
    "import requests # from pkg requests\n",
    "from urllib.request import Request, urlopen # from urllib"
   ]
  },
  {
   "cell_type": "markdown",
   "metadata": {},
   "source": [
    "## 01_Realtor.ca\n",
    "https://www.realtor.ca/"
   ]
  },
  {
   "cell_type": "code",
   "execution_count": null,
   "metadata": {},
   "outputs": [],
   "source": [
    "requests.get?"
   ]
  },
  {
   "cell_type": "code",
   "execution_count": null,
   "metadata": {},
   "outputs": [],
   "source": [
    "# define the url\n",
    "url = \"https://www.realtor.ca/map#ZoomLevel=10&Center=43.708087%2C-79.376385&LatitudeMax=44.03429&LongitudeMax=-78.56134&LatitudeMin=43.38010&LongitudeMin=-80.19143&Sort=6-D&PGeoIds=g30_dpz89rm7&GeoName=Toronto%2C%20ON&PropertyTypeGroupID=1&PropertySearchTypeId=1&TransactionTypeId=2&Currency=CAD\"\n",
    "# Make a request to download a web page\n",
    "x = requests.get(url) "
   ]
  },
  {
   "cell_type": "code",
   "execution_count": null,
   "metadata": {},
   "outputs": [],
   "source": [
    "x."
   ]
  },
  {
   "cell_type": "markdown",
   "metadata": {},
   "source": [
    "The `requests.Response()` Object contains the server's response to the HTTP request."
   ]
  },
  {
   "cell_type": "code",
   "execution_count": null,
   "metadata": {},
   "outputs": [],
   "source": [
    "# whether the request went through?\n",
    "x.status_code"
   ]
  },
  {
   "cell_type": "code",
   "execution_count": null,
   "metadata": {},
   "outputs": [],
   "source": [
    "# what was the site we hit?\n",
    "x.url"
   ]
  },
  {
   "cell_type": "code",
   "execution_count": null,
   "metadata": {},
   "outputs": [],
   "source": [
    "# review the result of scraping:\n",
    "x.content"
   ]
  },
  {
   "cell_type": "markdown",
   "metadata": {},
   "source": [
    "### What is `Incapsula`?\n",
    "Incapsula is a web application delivery platform that can be used to prevent scraping. <br />\n",
    "They detect you are robot and try to block you from scaping their sites. <br />\n",
    "\n",
    "### Q: Is Web scraping legal? \n",
    "Most sites don't bother to put incapsula. Some sites puts minimum effort and some sites try harder."
   ]
  },
  {
   "cell_type": "code",
   "execution_count": null,
   "metadata": {},
   "outputs": [],
   "source": [
    "y = requests.get(\"https://www.capitalone.ca/credit-cards/compare/?filter=all\")\n",
    "y.content"
   ]
  },
  {
   "cell_type": "markdown",
   "metadata": {},
   "source": [
    "Getting around `Incapsula` ... There're lots of tools and solutions that help you get around this tool.\n",
    "- **First layer:** pass a header and self identify `User-Agent`. A lot of website blocks HTTP request without a valid User-Agent string.\n",
    "- **Second layer:** using Selenium + bs4 (pretent harder to be a browser) [Discussion](https://visdup.blogspot.com/2019/03/python-beautifulsoup-4selenium-unable.html)\n",
    "- **Others:** more complex way to get around incapsula ... something new coming out every year\n",
    "\n",
    "There're on-going battles between web serves and web crawlers. \n",
    "- Most script you find that's more than 2 years old won't work;\n",
    "- Either the part of the getting through incapsula changes or the parsing part changes, and mostly both. \n",
    "- I decided to just go with the `first layer`."
   ]
  },
  {
   "cell_type": "markdown",
   "metadata": {},
   "source": [
    "### `User-Agent` request header \n",
    "- a characteristic string that lets servers identify the requesting user agent\n",
    "- `Mozilla/5.0` is the general token that says the browser is Mozilla-compatible\n",
    "- other more specified strings [User-Agent](https://developer.mozilla.org/en-US/docs/Web/HTTP/Headers/User-Agent)"
   ]
  },
  {
   "cell_type": "code",
   "execution_count": null,
   "metadata": {},
   "outputs": [],
   "source": [
    "x_new = requests.get(url, headers={'User-Agent': 'Mozilla/5.0'}) \n",
    "x_new.content"
   ]
  },
  {
   "cell_type": "markdown",
   "metadata": {},
   "source": [
    "## 02_Housesigma\n",
    "https://housesigma.com/web/en/\n",
    "- login require "
   ]
  },
  {
   "cell_type": "markdown",
   "metadata": {},
   "source": [
    "## 03_Zillow\n",
    "https://www.zillow.com/homes/"
   ]
  },
  {
   "cell_type": "code",
   "execution_count": null,
   "metadata": {},
   "outputs": [],
   "source": [
    "url = \"https://www.zillow.com/homes/m5e_rb/\"\n",
    "\n",
    "z = requests.get(url, headers={'User-Agent': 'Mozilla/5.0'}) \n",
    "z.content"
   ]
  },
  {
   "cell_type": "markdown",
   "metadata": {},
   "source": [
    "### `requests.get` vs. `Request`\n",
    "\n",
    "The `urllib.request` module defines functions and classes which help in opening URLs (mostly HTTP) in a complex world — basic and digest authentication, redirections, cookies and more."
   ]
  },
  {
   "cell_type": "code",
   "execution_count": null,
   "metadata": {},
   "outputs": [],
   "source": [
    "Request?"
   ]
  },
  {
   "cell_type": "code",
   "execution_count": null,
   "metadata": {},
   "outputs": [],
   "source": [
    "req = Request(url, headers={'User-Agent': 'Mozilla/5.0'}) "
   ]
  },
  {
   "cell_type": "code",
   "execution_count": null,
   "metadata": {},
   "outputs": [],
   "source": [
    "# Open the URL url, which can be either a string or a Request object\n",
    "urlopen? "
   ]
  },
  {
   "cell_type": "code",
   "execution_count": null,
   "metadata": {},
   "outputs": [],
   "source": [
    "webpage = urlopen(req).read()"
   ]
  },
  {
   "cell_type": "code",
   "execution_count": null,
   "metadata": {},
   "outputs": [],
   "source": [
    "webpage"
   ]
  }
 ],
 "metadata": {
  "kernelspec": {
   "display_name": "data_project",
   "language": "python",
   "name": "data_project"
  },
  "language_info": {
   "codemirror_mode": {
    "name": "ipython",
    "version": 3
   },
   "file_extension": ".py",
   "mimetype": "text/x-python",
   "name": "python",
   "nbconvert_exporter": "python",
   "pygments_lexer": "ipython3",
   "version": "3.8.6"
  }
 },
 "nbformat": 4,
 "nbformat_minor": 4
}
